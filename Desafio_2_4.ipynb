{
  "nbformat": 4,
  "nbformat_minor": 0,
  "metadata": {
    "colab": {
      "provenance": [],
      "authorship_tag": "ABX9TyP5n16mnl15xtqQ7jqCEz3p",
      "include_colab_link": true
    },
    "kernelspec": {
      "name": "python3",
      "display_name": "Python 3"
    },
    "language_info": {
      "name": "python"
    }
  },
  "cells": [
    {
      "cell_type": "markdown",
      "metadata": {
        "id": "view-in-github",
        "colab_type": "text"
      },
      "source": [
        "<a href=\"https://colab.research.google.com/github/MateoUYs/Python-2025-IFD/blob/main/Desafio_2_4.ipynb\" target=\"_parent\"><img src=\"https://colab.research.google.com/assets/colab-badge.svg\" alt=\"Open In Colab\"/></a>"
      ]
    },
    {
      "cell_type": "code",
      "execution_count": null,
      "metadata": {
        "id": "msj0jaTfjhOH"
      },
      "outputs": [],
      "source": []
    },
    {
      "cell_type": "markdown",
      "source": [
        "\n",
        "**Resolución de los Desafíos 3 y 4**\n",
        "**Desafío 3: Convertidor de temperaturas**\n",
        "\n",
        "¿Qué pide el enunciado?\n",
        "Se solicita crear un programa en Python que convierta una temperatura ingresada en grados Celsius a grados Fahrenheit y a Kelvin. La conversión debe hacerse mediante operaciones directas sobre variables.\n",
        "\n",
        "¿Qué tipo de datos y operadores utilicé?\n",
        "Tipo de datos: float, para permitir decimales en la temperatura ingresada.\n",
        "Operadores: aritméticos (*, /, +) para realizar las fórmulas de conversión.\n",
        "\n",
        "✅ ¿Qué validaciones implementé o podría haber implementado?\n",
        "Validé que el valor ingresado sea numérico al convertirlo a float.\n",
        "\n",
        "Se podría validar que la temperatura no sea menor al cero absoluto en Kelvin (-273,15°C), aunque no era obligatorio en el enunciado.\n",
        "\n",
        "\n",
        "**Desafío 4: Verificar múltiplos de varios números**\n",
        "¿Qué pide el enunciado?\n",
        "Desarrollar un programa en Python que reciba un número y verifique si es múltiplo de los números: 2, 3, 5, 7, 9, 10 y 11.\n",
        "Debe imprimirse un mensaje para cada caso, indicando si es múltiplo o no.\n",
        "\n",
        "🛠 ¿Qué tipo de datos y operadores utilicé?\n",
        "Tipo de datos: int, porque se trabaja con números enteros.\n",
        "\n",
        "Operadores: módulo % para comprobar si el residuo de la división es cero (condición de múltiplo).\n",
        "\n",
        "Estructuras: bucle for para recorrer los divisores y condicional if para verificar la condición.\n",
        "\n",
        "✅ ¿Qué validaciones implementé o podría haber implementado?\n",
        "Validé implícitamente que el número ingresado sea entero al convertirlo a int.\n",
        "\n",
        "Se podría agregar control de errores para manejar entradas no numéricas.\n",
        "\n",
        "WEBGRAFIA: No utilice ya que sabia de años anteriores estos conceptos.\n",
        "\n",
        "\n",
        "🔗 Enlace al repositorio de GitHub\n",
        "\n",
        "https://github.com/MateoUYs/Python-2025-IFD/blob/main/Desafio_2_4.ipynb\n"
      ],
      "metadata": {
        "id": "1mjDtTCVkNVN"
      }
    },
    {
      "cell_type": "code",
      "source": [
        "# DESAFIO 3 : CONVERTIDOR DE TEMPERATURAS\n",
        "\n",
        "celsius = float(input(\"Ingrese la temperatura en grados Celsius: \"))\n",
        "\n",
        "# Conversión a Fahrenheit\n",
        "fahrenheit = (celsius * 9/5) + 32\n",
        "\n",
        "# Conversión a Kelvin\n",
        "kelvin = celsius + 273.15\n",
        "\n",
        "# Mostrar los resultados\n",
        "print(f\"{celsius}°C equivalen a {fahrenheit:.2f}°F\")\n",
        "print(f\"{celsius}°C equivalen a {kelvin:.2f}K\")\n"
      ],
      "metadata": {
        "colab": {
          "base_uri": "https://localhost:8080/"
        },
        "id": "qE9ZSlV1kWLp",
        "outputId": "a006a989-8048-40dd-cb63-eb9fe6f895fa"
      },
      "execution_count": 4,
      "outputs": [
        {
          "output_type": "stream",
          "name": "stdout",
          "text": [
            "Ingrese la temperatura en grados Celsius: 50\n",
            "50.0°C equivalen a 122.00°F\n",
            "50.0°C equivalen a 323.15K\n"
          ]
        }
      ]
    },
    {
      "cell_type": "code",
      "source": [
        "# DESAFIO 4 : VERIFICAR MULTIPLOS DE VARIOS NUMEROS\n",
        "\n",
        "numero = int(input(\"Ingrese un número entero: \"))\n",
        "\n",
        "divisores = [2, 3, 5, 7, 9, 10, 11]\n",
        "\n",
        "# Recorrer la lista y verificar si el número es múltiplo\n",
        "for divisor in divisores:\n",
        "    if numero % divisor == 0:\n",
        "        print(f\"El número {numero} es múltiplo de {divisor}.\")\n",
        "    else:\n",
        "        print(f\"El número {numero} NO es múltiplo de {divisor}.\")\n"
      ],
      "metadata": {
        "colab": {
          "base_uri": "https://localhost:8080/"
        },
        "id": "yt-frJjykPlm",
        "outputId": "2e67dadf-f05c-4daa-a760-65cf1ed0f84a"
      },
      "execution_count": 3,
      "outputs": [
        {
          "output_type": "stream",
          "name": "stdout",
          "text": [
            "Ingrese un número entero: 5\n",
            "El número 5 NO es múltiplo de 2.\n",
            "El número 5 NO es múltiplo de 3.\n",
            "El número 5 es múltiplo de 5.\n",
            "El número 5 NO es múltiplo de 7.\n",
            "El número 5 NO es múltiplo de 9.\n",
            "El número 5 NO es múltiplo de 10.\n",
            "El número 5 NO es múltiplo de 11.\n"
          ]
        }
      ]
    }
  ]
}
